{
 "cells": [
  {
   "cell_type": "code",
   "execution_count": 14,
   "metadata": {
    "collapsed": false
   },
   "outputs": [],
   "source": [
    "#Detect if modules are installed\n",
    "import pandas as pd\n",
    "import economics as econ\n",
    "\n",
    "#Initially I excluded 2016 data, however, I now want to include the data.  \n",
    "#Subsequently, I have two seperate file which I will combine here.\n",
    "\n",
    "movie_mojo_data_11_15 = pd.read_csv('movie_data.csv')\n",
    "movie_mojo_data_16 = pd.read_csv('movie_data_2016.csv')\n",
    "movie_mojo_data = pd.concat([movie_mojo_data_11_15,movie_mojo_data_16],axis=0)\n",
    "pd.c\n",
    "numbers_budgets = pd.read_csv('numbers_movie_budgets.csv')\n"
   ]
  },
  {
   "cell_type": "code",
   "execution_count": 37,
   "metadata": {
    "collapsed": false
   },
   "outputs": [],
   "source": [
    "m1 = movie_mojo_data[\"movie title\"].unique()\n",
    "m2 = numbers_budgets.Movie.unique()\n",
    "m2.sort()\n",
    "m1.sort()"
   ]
  },
  {
   "cell_type": "code",
   "execution_count": 40,
   "metadata": {
    "collapsed": false
   },
   "outputs": [
    {
     "data": {
      "text/plain": [
       "array(['$upercapitalist', \"'71\", '1,000 Rupee Note',\n",
       "       '1,000 Times Good Night', '10 Cloverfield Lane',\n",
       "       '10 Days in a Madhouse', '10 Years', '10,000 Km',\n",
       "       '100 Bloody Acres', '1001 Grams', '11 Flowers', '11-11-11',\n",
       "       \"12 O'Clock Boys\", '12 Years a Slave', '13 Assassins',\n",
       "       '13 Hours: The Secret Soldiers of Benghazi', '13 Sins', '17 Girls',\n",
       "       '1911', '1915'], dtype=object)"
      ]
     },
     "execution_count": 40,
     "metadata": {},
     "output_type": "execute_result"
    }
   ],
   "source": [
    "m1[:20]"
   ]
  },
  {
   "cell_type": "code",
   "execution_count": 41,
   "metadata": {
    "collapsed": false
   },
   "outputs": [
    {
     "data": {
      "text/plain": [
       "array(['#Horror', '10 Cloverfield Lane', '10 Days in a Madhouse',\n",
       "       '10,000 B.C.', '102 Dalmatians', '10th & Wolf', '11:14',\n",
       "       '12 Angry Men', '12 Rounds', '12 Years a Slave', '127 Hours',\n",
       "       '13 Going On 30', '13 Hours: The Secret Soldiers of Benghazi',\n",
       "       '1408', '15 Minutes', '16 Blocks', '16 to Life', '17 Again', '1776',\n",
       "       '1941'], dtype=object)"
      ]
     },
     "execution_count": 41,
     "metadata": {},
     "output_type": "execute_result"
    }
   ],
   "source": [
    "m2[:20]"
   ]
  },
  {
   "cell_type": "code",
   "execution_count": 29,
   "metadata": {
    "collapsed": false
   },
   "outputs": [
    {
     "data": {
      "text/plain": [
       "2846"
      ]
     },
     "execution_count": 29,
     "metadata": {},
     "output_type": "execute_result"
    }
   ],
   "source": [
    "len(set(m1) - set(m2))"
   ]
  },
  {
   "cell_type": "code",
   "execution_count": 30,
   "metadata": {
    "collapsed": false
   },
   "outputs": [
    {
     "data": {
      "text/plain": [
       "4156"
      ]
     },
     "execution_count": 30,
     "metadata": {},
     "output_type": "execute_result"
    }
   ],
   "source": [
    "len(set(m2) - set(m1))"
   ]
  },
  {
   "cell_type": "code",
   "execution_count": 20,
   "metadata": {
    "collapsed": false
   },
   "outputs": [
    {
     "data": {
      "text/html": [
       "<div>\n",
       "<table border=\"1\" class=\"dataframe\">\n",
       "  <thead>\n",
       "    <tr style=\"text-align: right;\">\n",
       "      <th></th>\n",
       "      <th>Unnamed: 0</th>\n",
       "      <th>Release Date</th>\n",
       "      <th>Movie</th>\n",
       "      <th>Production Budget</th>\n",
       "      <th>Domestic Gross</th>\n",
       "      <th>Worldwide Gross</th>\n",
       "    </tr>\n",
       "  </thead>\n",
       "  <tbody>\n",
       "    <tr>\n",
       "      <th>5219</th>\n",
       "      <td>4885</td>\n",
       "      <td>12/31/1931</td>\n",
       "      <td>Mata Hari</td>\n",
       "      <td>558,000.00</td>\n",
       "      <td>$900,000</td>\n",
       "      <td>$900,000</td>\n",
       "    </tr>\n",
       "    <tr>\n",
       "      <th>5220</th>\n",
       "      <td>4100</td>\n",
       "      <td>1/1/1930</td>\n",
       "      <td>Hell's Angels</td>\n",
       "      <td>4,000,000.00</td>\n",
       "      <td>$0</td>\n",
       "      <td>$0</td>\n",
       "    </tr>\n",
       "    <tr>\n",
       "      <th>5221</th>\n",
       "      <td>4983</td>\n",
       "      <td>2/1/1929</td>\n",
       "      <td>The Broadway Melody</td>\n",
       "      <td>379,000.00</td>\n",
       "      <td>$2,800,000</td>\n",
       "      <td>$4,358,000</td>\n",
       "    </tr>\n",
       "    <tr>\n",
       "      <th>5222</th>\n",
       "      <td>4478</td>\n",
       "      <td>8/12/1927</td>\n",
       "      <td>Wings</td>\n",
       "      <td>2,000,000.00</td>\n",
       "      <td>$0</td>\n",
       "      <td>$0</td>\n",
       "    </tr>\n",
       "    <tr>\n",
       "      <th>5223</th>\n",
       "      <td>4110</td>\n",
       "      <td>12/30/1925</td>\n",
       "      <td>Ben-Hur</td>\n",
       "      <td>3,900,000.00</td>\n",
       "      <td>$9,000,000</td>\n",
       "      <td>$9,000,000</td>\n",
       "    </tr>\n",
       "    <tr>\n",
       "      <th>5224</th>\n",
       "      <td>5063</td>\n",
       "      <td>1/1/1925</td>\n",
       "      <td>The Big Parade</td>\n",
       "      <td>245,000.00</td>\n",
       "      <td>$11,000,000</td>\n",
       "      <td>$22,000,000</td>\n",
       "    </tr>\n",
       "    <tr>\n",
       "      <th>5225</th>\n",
       "      <td>5138</td>\n",
       "      <td>9/17/1920</td>\n",
       "      <td>Over the Hill to the Poorhouse</td>\n",
       "      <td>100,000.00</td>\n",
       "      <td>$3,000,000</td>\n",
       "      <td>$3,000,000</td>\n",
       "    </tr>\n",
       "    <tr>\n",
       "      <th>5226</th>\n",
       "      <td>5071</td>\n",
       "      <td>12/24/1916</td>\n",
       "      <td>20,000 Leagues Under the Sea</td>\n",
       "      <td>200,000.00</td>\n",
       "      <td>$8,000,000</td>\n",
       "      <td>$8,000,000</td>\n",
       "    </tr>\n",
       "    <tr>\n",
       "      <th>5227</th>\n",
       "      <td>4982</td>\n",
       "      <td>9/5/1916</td>\n",
       "      <td>Intolerance</td>\n",
       "      <td>385,907.00</td>\n",
       "      <td>$0</td>\n",
       "      <td>$0</td>\n",
       "    </tr>\n",
       "    <tr>\n",
       "      <th>5228</th>\n",
       "      <td>5132</td>\n",
       "      <td>2/8/1915</td>\n",
       "      <td>The Birth of a Nation</td>\n",
       "      <td>110,000.00</td>\n",
       "      <td>$10,000,000</td>\n",
       "      <td>$11,000,000</td>\n",
       "    </tr>\n",
       "  </tbody>\n",
       "</table>\n",
       "</div>"
      ],
      "text/plain": [
       "      Unnamed: 0 Release Date                           Movie  \\\n",
       "5219        4885   12/31/1931                       Mata Hari   \n",
       "5220        4100     1/1/1930                   Hell's Angels   \n",
       "5221        4983     2/1/1929             The Broadway Melody   \n",
       "5222        4478    8/12/1927                           Wings   \n",
       "5223        4110   12/30/1925                         Ben-Hur   \n",
       "5224        5063     1/1/1925                  The Big Parade   \n",
       "5225        5138    9/17/1920  Over the Hill to the Poorhouse   \n",
       "5226        5071   12/24/1916    20,000 Leagues Under the Sea   \n",
       "5227        4982     9/5/1916                     Intolerance   \n",
       "5228        5132     2/8/1915           The Birth of a Nation   \n",
       "\n",
       "     Production Budget Domestic Gross Worldwide Gross  \n",
       "5219        558,000.00       $900,000        $900,000  \n",
       "5220      4,000,000.00             $0              $0  \n",
       "5221        379,000.00     $2,800,000      $4,358,000  \n",
       "5222      2,000,000.00             $0              $0  \n",
       "5223      3,900,000.00     $9,000,000      $9,000,000  \n",
       "5224        245,000.00    $11,000,000     $22,000,000  \n",
       "5225        100,000.00     $3,000,000      $3,000,000  \n",
       "5226        200,000.00     $8,000,000      $8,000,000  \n",
       "5227        385,907.00             $0              $0  \n",
       "5228        110,000.00    $10,000,000     $11,000,000  "
      ]
     },
     "execution_count": 20,
     "metadata": {},
     "output_type": "execute_result"
    }
   ],
   "source": [
    "movie_mojo_data.tail(20)\n",
    "numbers_budgets.tail(10)"
   ]
  },
  {
   "cell_type": "code",
   "execution_count": null,
   "metadata": {
    "collapsed": true
   },
   "outputs": [],
   "source": []
  }
 ],
 "metadata": {
  "anaconda-cloud": {},
  "kernelspec": {
   "display_name": "Python [Root]",
   "language": "python",
   "name": "Python [Root]"
  },
  "language_info": {
   "codemirror_mode": {
    "name": "ipython",
    "version": 2
   },
   "file_extension": ".py",
   "mimetype": "text/x-python",
   "name": "python",
   "nbconvert_exporter": "python",
   "pygments_lexer": "ipython2",
   "version": "2.7.12"
  }
 },
 "nbformat": 4,
 "nbformat_minor": 0
}
